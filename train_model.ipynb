{
  "nbformat": 4,
  "nbformat_minor": 0,
  "metadata": {
    "colab": {
      "provenance": []
    },
    "kernelspec": {
      "name": "python3",
      "display_name": "Python 3"
    },
    "language_info": {
      "name": "python"
    }
  },
  "cells": [
    {
      "cell_type": "code",
      "execution_count": null,
      "metadata": {
        "id": "c0YCicFHJG4w"
      },
      "outputs": [],
      "source": [
        "import pandas as pd\n",
        "import numpy as np\n",
        "from sklearn.pipeline import Pipeline\n",
        "from sklearn.impute import SimpleImputer\n",
        "from sklearn.preprocessing import StandardScaler\n",
        "from sklearn.linear_model import Ridge\n",
        "import joblib\n",
        "\n",
        "url = \"https://raw.githubusercontent.com/gbergamo74/airbnb-italy-analysis/main/Airbnb%20in%20Italy.csv\"\n",
        "df = pd.read_csv(url)\n",
        "\n",
        "# 2) Prepara X e y\n",
        "leak_cols = ['price_per_person']\n",
        "target   = 'price'\n",
        "X = df.drop(columns=leak_cols + [target], errors='ignore').select_dtypes(include=[np.number])\n",
        "y = df[target]\n",
        "\n",
        "# 3) Define y entrena el pipeline\n",
        "pipeline = Pipeline([\n",
        "    ('imputer', SimpleImputer(strategy='median')),\n",
        "    ('scaler',  StandardScaler()),\n",
        "    ('model',   Ridge(alpha=1.0, random_state=42))\n",
        "])\n",
        "pipeline.fit(X, y)\n",
        "\n",
        "# 4) Guarda el modelo entrenado\n",
        "joblib.dump(pipeline, 'ridge_pipeline.pkl')\n",
        "print(\"✅ Modelo guardado en ridge_pipeline.pkl\")\n"
      ]
    }
  ]
}