{
  "nbformat": 4,
  "nbformat_minor": 0,
  "metadata": {
    "colab": {
      "provenance": []
    },
    "kernelspec": {
      "name": "python3",
      "display_name": "Python 3"
    },
    "language_info": {
      "name": "python"
    }
  },
  "cells": [
    {
      "cell_type": "code",
      "execution_count": 5,
      "metadata": {
        "id": "c0YCicFHJG4w",
        "colab": {
          "base_uri": "https://localhost:8080/",
          "height": 91
        },
        "outputId": "13e04ea3-4644-4e82-bb65-0e8f0b88ccb9"
      },
      "outputs": [
        {
          "output_type": "stream",
          "name": "stderr",
          "text": [
            "/usr/local/lib/python3.11/dist-packages/sklearn/impute/_base.py:635: UserWarning: Skipping features without any observed values: ['neighbourhood_group_cleansed' 'bathrooms' 'calendar_updated']. At least one non-missing value is needed for imputation with strategy='median'.\n",
            "  warnings.warn(\n"
          ]
        },
        {
          "output_type": "display_data",
          "data": {
            "text/plain": [
              "<IPython.core.display.Javascript object>"
            ],
            "application/javascript": [
              "\n",
              "    async function download(id, filename, size) {\n",
              "      if (!google.colab.kernel.accessAllowed) {\n",
              "        return;\n",
              "      }\n",
              "      const div = document.createElement('div');\n",
              "      const label = document.createElement('label');\n",
              "      label.textContent = `Downloading \"${filename}\": `;\n",
              "      div.appendChild(label);\n",
              "      const progress = document.createElement('progress');\n",
              "      progress.max = size;\n",
              "      div.appendChild(progress);\n",
              "      document.body.appendChild(div);\n",
              "\n",
              "      const buffers = [];\n",
              "      let downloaded = 0;\n",
              "\n",
              "      const channel = await google.colab.kernel.comms.open(id);\n",
              "      // Send a message to notify the kernel that we're ready.\n",
              "      channel.send({})\n",
              "\n",
              "      for await (const message of channel.messages) {\n",
              "        // Send a message to notify the kernel that we're ready.\n",
              "        channel.send({})\n",
              "        if (message.buffers) {\n",
              "          for (const buffer of message.buffers) {\n",
              "            buffers.push(buffer);\n",
              "            downloaded += buffer.byteLength;\n",
              "            progress.value = downloaded;\n",
              "          }\n",
              "        }\n",
              "      }\n",
              "      const blob = new Blob(buffers, {type: 'application/binary'});\n",
              "      const a = document.createElement('a');\n",
              "      a.href = window.URL.createObjectURL(blob);\n",
              "      a.download = filename;\n",
              "      div.appendChild(a);\n",
              "      a.click();\n",
              "      div.remove();\n",
              "    }\n",
              "  "
            ]
          },
          "metadata": {}
        },
        {
          "output_type": "display_data",
          "data": {
            "text/plain": [
              "<IPython.core.display.Javascript object>"
            ],
            "application/javascript": [
              "download(\"download_3cee7b3a-6558-4096-8f3b-c7d1b31a4906\", \"ridge_pipeline.pkl\", 3929)"
            ]
          },
          "metadata": {}
        },
        {
          "output_type": "stream",
          "name": "stdout",
          "text": [
            "ridge_pipeline.pkl generado correctamente\n"
          ]
        }
      ],
      "source": [
        "import pandas as pd\n",
        "import numpy as np\n",
        "from sklearn.pipeline import Pipeline\n",
        "from sklearn.impute import SimpleImputer\n",
        "from sklearn.preprocessing import StandardScaler\n",
        "from sklearn.linear_model import Ridge\n",
        "import joblib\n",
        "from google.colab import files\n",
        "\n",
        "url = \"https://raw.githubusercontent.com/gbergamo74/airbnb-italy-analysis/main/Airbnb%20in%20Italy.csv\"\n",
        "df = pd.read_csv(url)\n",
        "\n",
        "# Limpieza de 'price' (quitar '$' y ',' y convertir a float)\n",
        "df['price'] = (\n",
        "    df['price']\n",
        "      .astype(str)\n",
        "      .str.replace(r'[\\$,]', '', regex=True)\n",
        "      .astype(float)\n",
        ")\n",
        "# Descarta las filas sin precio válido\n",
        "df = df.dropna(subset=['price'])\n",
        "\n",
        "# Preparar X e y\n",
        "leak_cols = ['price_per_person']\n",
        "target   = 'price'\n",
        "X = df.drop(columns=leak_cols + [target], errors='ignore') \\\n",
        "       .select_dtypes(include=[np.number])\n",
        "y = df[target]\n",
        "\n",
        "# Definir y entrenar el pipeline\n",
        "pipeline = Pipeline([\n",
        "    ('imputer', SimpleImputer(strategy='median')),\n",
        "    ('scaler',  StandardScaler()),\n",
        "    ('model',   Ridge(alpha=1.0, random_state=42))\n",
        "])\n",
        "pipeline.fit(X, y)\n",
        "\n",
        "joblib.dump(pipeline, 'ridge_pipeline.pkl')\n",
        "\n",
        "from google.colab import files\n",
        "files.download('ridge_pipeline.pkl')\n",
        "\n",
        "print(\"ridge_pipeline.pkl generado correctamente\")\n"
      ]
    }
  ]
}